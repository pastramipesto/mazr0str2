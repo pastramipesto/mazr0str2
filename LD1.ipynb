{
  "nbformat": 4,
  "nbformat_minor": 0,
  "metadata": {
    "colab": {
      "provenance": [],
      "authorship_tag": "ABX9TyNPw9JXGTb4ydDnqFi03q4z",
      "include_colab_link": true
    },
    "kernelspec": {
      "name": "python3",
      "display_name": "Python 3"
    },
    "language_info": {
      "name": "python"
    }
  },
  "cells": [
    {
      "cell_type": "markdown",
      "metadata": {
        "id": "view-in-github",
        "colab_type": "text"
      },
      "source": [
        "<a href=\"https://colab.research.google.com/github/pastramipesto/mazr0str2/blob/main/LD1.ipynb\" target=\"_parent\"><img src=\"https://colab.research.google.com/assets/colab-badge.svg\" alt=\"Open In Colab\"/></a>"
      ]
    },
    {
      "cell_type": "code",
      "execution_count": 9,
      "metadata": {
        "colab": {
          "base_uri": "https://localhost:8080/"
        },
        "id": "1tu9WXmTI9TO",
        "outputId": "b4aaf687-a8d1-4eb8-bc7b-914a87ff6325"
      },
      "outputs": [
        {
          "output_type": "stream",
          "name": "stdout",
          "text": [
            "Give name: Jill\n",
            "\n",
            "\n",
            "Hi, Jill.\n",
            "We want to know if you like programming.\n",
            "Do you like programming?: yes\n",
            "Great! You said, yes.\n"
          ]
        }
      ],
      "source": [
        "name=input(\"Give name: \")\n",
        "print(\"\\n\")\n",
        "print(\"Hi,\"+ \" \" + name + \".\")\n",
        "print(\"We want to know if you like programming.\")\n",
        "\n",
        "response=input(\"Do you like programming?: \")\n",
        "print(\"Great! You said, \" + response + \".\")"
      ]
    },
    {
      "cell_type": "code",
      "source": [
        "#my homework\n",
        "\n",
        "name=input(\"HI. I'm a chatbot. Tell  me, what is your name: \")\n",
        "print(\"\\n\")\n",
        "\n",
        "print(\"Okay,\" + \" \" + name +\".\")\n",
        "print(\"I have three questions for you.\")\n",
        "print(\"\\n\")\n",
        "\n",
        "foodAns=input(\"Are you a streetfood hunter? \")\n",
        "print(\"Great! You said, \" + foodAns + \".\")\n",
        "\n",
        "snackAns=input(\"What is your favourite snack? \")\n",
        "print(\"I see. You like to eat \" + snackAns + \". Interesting.\")\n",
        "\n",
        "fragrAns=input(\"What is your favourite scent? \")\n",
        "print(\"I also like the smell of \" + fragrAns + \" on rainy days.\")"
      ],
      "metadata": {
        "colab": {
          "base_uri": "https://localhost:8080/"
        },
        "id": "AzyvJ-8dLjp9",
        "outputId": "ba26c103-13e2-463e-d89d-c9b1296048ae"
      },
      "execution_count": 13,
      "outputs": [
        {
          "output_type": "stream",
          "name": "stdout",
          "text": [
            "HI. I'm a chatbot. Tell  me, what is your name: Boogey\n",
            "\n",
            "\n",
            "Okay, Boogey.\n",
            "I have three questions for you.\n",
            "\n",
            "\n",
            "Are you a streetfood hunter? No\n",
            "Great! You said, No.\n",
            "What is your favourite snack? Wooden planks\n",
            "I see. You like to eat Wooden planks. Interesting.\n",
            "What is your favourite scent? Rusting nails\n",
            "I also like the smell of Rusting nails on rainy days.\n"
          ]
        }
      ]
    }
  ]
}