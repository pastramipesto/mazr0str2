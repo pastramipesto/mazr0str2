{
  "nbformat": 4,
  "nbformat_minor": 0,
  "metadata": {
    "colab": {
      "provenance": [],
      "authorship_tag": "ABX9TyMi3UP9oxHhW6qLj912jo6Z",
      "include_colab_link": true
    },
    "kernelspec": {
      "name": "python3",
      "display_name": "Python 3"
    },
    "language_info": {
      "name": "python"
    }
  },
  "cells": [
    {
      "cell_type": "markdown",
      "metadata": {
        "id": "view-in-github",
        "colab_type": "text"
      },
      "source": [
        "<a href=\"https://colab.research.google.com/github/pastramipesto/mazr0str2/blob/main/Playing_around_C1_prints.ipynb\" target=\"_parent\"><img src=\"https://colab.research.google.com/assets/colab-badge.svg\" alt=\"Open In Colab\"/></a>"
      ]
    },
    {
      "cell_type": "code",
      "source": [
        "# ask user for name. 'name' as variavle.\n",
        "\n",
        "\"\"\"\n",
        "blabla this is a comment too,\n",
        "space is for athestic, it moves to the right a space of it.\n",
        "\n",
        "\"\"\"\n",
        "name = input(\"What's your name? \")\n",
        "\n",
        "#the printing styled 1\n",
        "print(\"Heello,\")\n",
        "print(name)\n"
      ],
      "metadata": {
        "id": "JEpWoXguaq5d",
        "colab": {
          "base_uri": "https://localhost:8080/"
        },
        "outputId": "aa18289f-4c69-4c73-c73f-409f8ace3434"
      },
      "execution_count": null,
      "outputs": [
        {
          "output_type": "stream",
          "name": "stdout",
          "text": [
            "What's your name? Jill\n",
            "Heello,\n",
            "Jill\n"
          ]
        }
      ]
    },
    {
      "cell_type": "code",
      "source": [
        "# ask user for name. 'name' as variavle.\n",
        "\n",
        "\"\"\"\n",
        "blabla this is a comment too,\n",
        "space is for athestic, it moves to the right a space of it.\n",
        "\n",
        "\"\"\"\n",
        "name = input(\"What's your name? \")\n",
        "\n",
        "#the printing styled 2\n",
        "print(\"Heello, \" + name)"
      ],
      "metadata": {
        "colab": {
          "base_uri": "https://localhost:8080/"
        },
        "id": "mZFf_nG-2gug",
        "outputId": "d80c3ff1-88ac-4069-f11f-2e9ec8fd85e3"
      },
      "execution_count": null,
      "outputs": [
        {
          "output_type": "stream",
          "name": "stdout",
          "text": [
            "What's your name? Jill\n",
            "Heello, Jill\n"
          ]
        }
      ]
    },
    {
      "cell_type": "code",
      "source": [
        "\"\"\"\n",
        "'name' as variable\n",
        "'age' as variable\n",
        "'school' as variable\n",
        "\n",
        "\"\"\"\n",
        "\n",
        "name = input(\"What is your name?  \")\n",
        "age = input(\"What is your age? \")\n",
        "school = input(\"What is your school?\" )\n",
        "\n",
        "print(\"Hello, \"+ name)\n",
        "print(\"You are \"+ age)\n",
        "print(\"You are a student of \" + school)"
      ],
      "metadata": {
        "id": "pZPmyz6b5dj1",
        "colab": {
          "base_uri": "https://localhost:8080/"
        },
        "outputId": "2d512bed-031d-48a6-8c54-3ffbf41af063"
      },
      "execution_count": 2,
      "outputs": [
        {
          "output_type": "stream",
          "name": "stdout",
          "text": [
            "What is your name?  Jill\n",
            "What is your age? 23\n",
            "What is your school?Telebort\n",
            "Hello, Jill\n",
            "You are 23\n",
            "You are a student of Telebort\n"
          ]
        }
      ]
    },
    {
      "cell_type": "code",
      "source": [
        "#testprint\n",
        "#notice the space or lack of\n",
        "\n",
        "print(\"Data \" + \"Analysis\")\n",
        "print(\"Hello world\")\n",
        "print(\"Data\"+\"Analysis\")\n",
        "print(\"Data\",\"Analysis\")"
      ],
      "metadata": {
        "colab": {
          "base_uri": "https://localhost:8080/"
        },
        "id": "Zsr2Huj-qE5e",
        "outputId": "d0b13693-1e4a-40df-a0ea-262e25d4b66e"
      },
      "execution_count": 6,
      "outputs": [
        {
          "output_type": "stream",
          "name": "stdout",
          "text": [
            "Data Analysis\n",
            "Hello world\n",
            "DataAnalysis\n",
            "Data Analysis\n"
          ]
        }
      ]
    },
    {
      "cell_type": "code",
      "source": [
        "#testprint\n",
        "#notice the comma <var> comma AND LITERAL Spacings\n",
        "\n",
        "name = input(\"Name?\")\n",
        "age = input(\"Age?\")\n",
        "school = input(\"School?\")\n",
        "\n",
        "print(\"Hey,\",name,\". You are\",age, \"years old from\",school,\".\")"
      ],
      "metadata": {
        "colab": {
          "base_uri": "https://localhost:8080/"
        },
        "id": "xQNFUvEzuHBC",
        "outputId": "af676572-9c82-4d6c-cc77-26d162aba3c2"
      },
      "execution_count": 15,
      "outputs": [
        {
          "output_type": "stream",
          "name": "stdout",
          "text": [
            "Name?jill\n",
            "Age?23\n",
            "School?Why\n",
            "Hey, jill . You are 23 years old from Why .\n"
          ]
        }
      ]
    }
  ]
}