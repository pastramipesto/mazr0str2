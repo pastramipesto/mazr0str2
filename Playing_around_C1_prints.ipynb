{
  "nbformat": 4,
  "nbformat_minor": 0,
  "metadata": {
    "colab": {
      "provenance": [],
      "authorship_tag": "ABX9TyPsIXKNAU/IbsW+sQSP6JaW",
      "include_colab_link": true
    },
    "kernelspec": {
      "name": "python3",
      "display_name": "Python 3"
    },
    "language_info": {
      "name": "python"
    }
  },
  "cells": [
    {
      "cell_type": "markdown",
      "metadata": {
        "id": "view-in-github",
        "colab_type": "text"
      },
      "source": [
        "<a href=\"https://colab.research.google.com/github/pastramipesto/mazr0str2/blob/main/Playing_around_C1_prints.ipynb\" target=\"_parent\"><img src=\"https://colab.research.google.com/assets/colab-badge.svg\" alt=\"Open In Colab\"/></a>"
      ]
    },
    {
      "cell_type": "code",
      "source": [
        "# ask user for name. 'name' as variavle.\n",
        "\n",
        "\"\"\"\n",
        "blabla this is a comment too,\n",
        "space is for athestic, it moves to the right a space of it.\n",
        "\n",
        "\"\"\"\n",
        "name = input(\"What's your name? \")\n",
        "\n",
        "#capitalizes [Title Name] \n",
        "name = name.title()\n",
        "\n",
        "\n",
        "#making the variabled variabilng - first, last is an actual feature, split and it recognizes still.\n",
        "first, last = name.split(\" \")\n",
        "\n",
        "#the printing styled 1\n",
        "print(\"Heello,\")\n",
        "print(name)\n",
        "\n",
        "print(f\"hello, {last}\")\n",
        "\n",
        "\n"
      ],
      "metadata": {
        "id": "JEpWoXguaq5d",
        "colab": {
          "base_uri": "https://localhost:8080/"
        },
        "outputId": "f2ddc190-5a47-4fea-fba4-8269523cd508"
      },
      "execution_count": null,
      "outputs": [
        {
          "output_type": "stream",
          "name": "stdout",
          "text": [
            "What's your name? jill silon\n",
            "Heello,\n",
            "Jill Silon\n",
            "hello, Silon\n"
          ]
        }
      ]
    },
    {
      "cell_type": "code",
      "source": [
        "# ask user for name. 'name' as variavle.\n",
        "\n",
        "\"\"\"\n",
        "blabla this is a comment too,\n",
        "space is for athestic, it moves to the right a space of it.\n",
        "\n",
        "\"\"\"\n",
        "name = input(\"What's your name? \")\n",
        "favColour = input(\"What is your favourite colour? \")\n",
        "\n",
        "#the printing styled 2\n",
        "\n",
        "print(\"Heello, \" + name)\n",
        "print(\"\\n\")\n",
        "print(\"What is green and rhymes with trolley?\")\n",
        "print(\"\\n\")\n",
        "print(\"Broccoli!\")\n",
        "print(\"Broccoli says, your favourite colour is \" + favColour)"
      ],
      "metadata": {
        "colab": {
          "base_uri": "https://localhost:8080/"
        },
        "id": "mZFf_nG-2gug",
        "outputId": "f5a5e861-c7d3-4410-9583-57f944babd37"
      },
      "execution_count": 9,
      "outputs": [
        {
          "output_type": "stream",
          "name": "stdout",
          "text": [
            "What's your name? jill\n",
            "What is your favourite colour? blue\n",
            "Heello, jill\n",
            "\n",
            "\n",
            "What is green and rhymes with trolley?\n",
            "\n",
            "\n",
            "Broccoli!\n",
            "Broccoli says, your favourite colour is blue\n"
          ]
        }
      ]
    },
    {
      "cell_type": "code",
      "source": [
        "name1 = \"roxas\"\n",
        "name2 = \"dimitri\"\n",
        "\n",
        "firstLast = name1 + \" \" + name2\n",
        "print(name1)\n",
        "print(name2)\n",
        "\n",
        "#combining names with \"and\" effect with str concatenation\n",
        "\n",
        "print(firstLast)\n",
        "\n",
        " "
      ],
      "metadata": {
        "colab": {
          "base_uri": "https://localhost:8080/"
        },
        "id": "8Ku7yT6Wr2Fj",
        "outputId": "19ac1251-250b-452b-a3bc-76db4bdc6ef7"
      },
      "execution_count": 14,
      "outputs": [
        {
          "output_type": "stream",
          "name": "stdout",
          "text": [
            "roxas\n",
            "dimitri\n",
            "roxas dimitri\n"
          ]
        }
      ]
    },
    {
      "cell_type": "code",
      "source": [
        "name1= input(\"Give first name: \")\n",
        "name2= input(\"Give last name: \")\n",
        "favColour= input(\"Favourite colour: \")\n",
        "favVeg= input(\"What is your favourite vegetable? \")\n",
        "favFlav= input(\"What is your favourite biscuits flavour?\")\n",
        "favSnack= input(\"What is your favourite picnic snack?\")\n",
        "\n",
        "firstLast = name1 + \" \" + name2\n",
        "print(firstLast) \n",
        "\n",
        "FlavSnack = favFlav + \" \" + favSnack\n",
        "print(FlavSnack)\n",
        "\n",
        "print(\"Hi,\" + \" \" + firstLast)\n",
        "print(\"\\n\")\n",
        "print(\"So...\" + \" \" + name1 + \",\")\n",
        "print(\"\\n\")\n",
        "print(\"You like to eat\" + \" \" + favVeg  + \"?\")\n",
        "print(\"\\n\")\n",
        "print(\"I heard you like the colour\" + \" \" + favColour + \".\")\n",
        "print(\"This may sound odd, I just think that you probably will like to eat\" + \" \" + FlavSnack +\".\")\n",
        "print(\"My favourite foods are\" + \" \" + favFlav +\"s and\"+ \" \" + favSnack +\"s too.\")"
      ],
      "metadata": {
        "colab": {
          "base_uri": "https://localhost:8080/"
        },
        "id": "OLpF3Djg6LVd",
        "outputId": "05d40652-8af4-49d8-b78d-8424d7c632d0"
      },
      "execution_count": 21,
      "outputs": [
        {
          "output_type": "stream",
          "name": "stdout",
          "text": [
            "Give first name: Jill\n",
            "Give last name: Silon\n",
            "Favourite colour: maroon\n",
            "What is your favourite vegetable? broccoli\n",
            "What is your favourite biscuits flavour?lemon\n",
            "What is your favourite picnic snack?waffles\n",
            "Jill Silon\n",
            "lemon waffles\n",
            "Hi, Jill Silon\n",
            "\n",
            "\n",
            "So... Jill,\n",
            "\n",
            "\n",
            "You like to eat broccoli?\n",
            "\n",
            "\n",
            "I heard you like the colour maroon.\n",
            "This may sound odd, I just think that you probably will like to eat lemon waffles.\n",
            "My favourite foods are lemons and waffless too.\n"
          ]
        }
      ]
    },
    {
      "cell_type": "code",
      "source": [
        "\"\"\"\n",
        "'name' as variable\n",
        "'age' as variable\n",
        "'school' as variable\n",
        "\n",
        "\"\"\"\n",
        "\n",
        "name = input(\"What is your name?  \")\n",
        "age = input(\"What is your age? \")\n",
        "school = input(\"What is your school?\" )\n",
        "\n",
        "print(\"Hello, \"+ name)\n",
        "print(\"You are \"+ age)\n",
        "print(\"You are a student of \" + school)"
      ],
      "metadata": {
        "id": "pZPmyz6b5dj1",
        "colab": {
          "base_uri": "https://localhost:8080/"
        },
        "outputId": "2d512bed-031d-48a6-8c54-3ffbf41af063"
      },
      "execution_count": null,
      "outputs": [
        {
          "output_type": "stream",
          "name": "stdout",
          "text": [
            "What is your name?  Jill\n",
            "What is your age? 23\n",
            "What is your school?Telebort\n",
            "Hello, Jill\n",
            "You are 23\n",
            "You are a student of Telebort\n"
          ]
        }
      ]
    },
    {
      "cell_type": "code",
      "source": [
        "#testprint\n",
        "#notice the space or lack of\n",
        "# comma symbol, give default spaces (python only)\n",
        "\n",
        "print(\"Data \" + \"Analysis\")\n",
        "print(\"Hello world\")\n",
        "print(\"Data\"+\"Analysis\")\n",
        "print(\"Data\",\"Analysis\")"
      ],
      "metadata": {
        "colab": {
          "base_uri": "https://localhost:8080/"
        },
        "id": "Zsr2Huj-qE5e",
        "outputId": "d0b13693-1e4a-40df-a0ea-262e25d4b66e"
      },
      "execution_count": null,
      "outputs": [
        {
          "output_type": "stream",
          "name": "stdout",
          "text": [
            "Data Analysis\n",
            "Hello world\n",
            "DataAnalysis\n",
            "Data Analysis\n"
          ]
        }
      ]
    },
    {
      "cell_type": "code",
      "source": [
        "#testprint\n",
        "#notice the comma <var> comma AND LITERAL Spacings\n",
        "\n",
        "name = input(\"Name?\")\n",
        "age = input(\"Age?\")\n",
        "school = input(\"School?\")\n",
        "\n",
        "#remove whitespace from str, and that helps write it clear. removes left or right only.\n",
        "name = name.strip()\n",
        "\n",
        "#capitalize user's name, first letter only\n",
        "name = name.capitalize()\n",
        "\n",
        "#capitalizes [Title Name] \n",
        "name = name.title()\n",
        "\n",
        "\n",
        "#making the variabled variabilng - first, last is an actual feature, split and it recognizes still.\n",
        "first, last = name.split(\" \")\n",
        "\n",
        "\n",
        "print(\"Hey,\",name,\". You are\",age, \"years old from\",school,\".\")"
      ],
      "metadata": {
        "colab": {
          "base_uri": "https://localhost:8080/"
        },
        "id": "xQNFUvEzuHBC",
        "outputId": "c060efe3-f474-426b-8d7a-05a14a094255"
      },
      "execution_count": null,
      "outputs": [
        {
          "output_type": "stream",
          "name": "stdout",
          "text": [
            "Name?maziah jill jalilah \n",
            "Age?28\n",
            "School?Well\n",
            "Hey, Maziah Jill Jalilah . You are 28 years old from Well .\n"
          ]
        }
      ]
    }
  ]
}